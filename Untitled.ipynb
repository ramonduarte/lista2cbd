{
 "cells": [
  {
   "cell_type": "code",
   "execution_count": 120,
   "metadata": {},
   "outputs": [],
   "source": [
    "import csv\n",
    "from typing import List\n",
    "\n",
    "with open('consulta_cand_2018/consulta_cand_2018_BR.csv', encoding=\"latin-1\") as csv_file:\n",
    "    csv_reader = csv.reader(csv_file, delimiter=',')\n",
    "    csv_info = [row[0].replace('\"', '').split(';') for row in csv_reader]\n",
    "    csv_fields = csv_info.pop(0)\n",
    "\n",
    "def get_column(fieldname: str, header: List[str], table: List[list]) -> List[str]:\n",
    "    index = header.index(fieldname)\n",
    "    column = [x[index] for x in table]\n",
    "    return column\n"
   ]
  },
  {
   "cell_type": "code",
   "execution_count": 122,
   "metadata": {},
   "outputs": [],
   "source": [
    "info = csv_info[:]\n",
    "fields = csv_fields[:]"
   ]
  },
  {
   "cell_type": "markdown",
   "metadata": {},
   "source": [
    "# Heap file\n",
    "\n",
    "Essentially a list, but calling heapify() to keep it in order."
   ]
  },
  {
   "cell_type": "markdown",
   "metadata": {},
   "source": [
    "```\n",
    "\n",
    "File structure: Hash\n",
    "Creation: 2018-10-12 19:28:25\n",
    "Last modification: 2018-10-12 19:28:25\n",
    "Schema: DT_GERACAO:{}({});HH_GERACAO:{}({});ANO_ELEICAO:{}({});CD_TIPO_ELEICAO:{}({});NM_TIPO_ELEICAO:{}({});NR_TURNO:{}({});CD_ELEICAO:{}({});DS_ELEICAO:{}({});DT_ELEICAO:{}({});TP_ABRANGENCIA:{}({});SG_UF:{}({});SG_UE:{}({});NM_UE:{}({});CD_CARGO:{}({});DS_CARGO:{}({});SQ_CANDIDATO:{}({});NR_CANDIDATO:{}({});NM_CANDIDATO:{}({});NM_URNA_CANDIDATO:{}({});NM_SOCIAL_CANDIDATO:{}({});NR_CPF_CANDIDATO:{}({});NM_EMAIL:{}({});CD_SITUACAO_CANDIDATURA:{}({});DS_SITUACAO_CANDIDATURA:{}({});CD_DETALHE_SITUACAO_CAND:{}({});DS_DETALHE_SITUACAO_CAND:{}({});TP_AGREMIACAO:{}({});NR_PARTIDO:{}({});SG_PARTIDO:{}({});NM_PARTIDO:{}({});SQ_COLIGACAO:{}({});NM_COLIGACAO:{}({});DS_COMPOSICAO_COLIGACAO:{}({});CD_NACIONALIDADE:{}({});DS_NACIONALIDADE:{}({});SG_UF_NASCIMENTO:{}({});CD_MUNICIPIO_NASCIMENTO:{}({});NM_MUNICIPIO_NASCIMENTO:{}({});DT_NASCIMENTO:{}({});NR_IDADE_DATA_POSSE:{}({});NR_TITULO_ELEITORAL_CANDIDATO:{}({});CD_GENERO:{}({});DS_GENERO:{}({});CD_GRAU_INSTRUCAO:{}({});DS_GRAU_INSTRUCAO:{}({});CD_ESTADO_CIVIL:{}({});DS_ESTADO_CIVIL:{}({});CD_COR_RACA:{}({});DS_COR_RACA:{}({});CD_OCUPACAO:{}({});DS_OCUPACAO:{}({});NR_DESPESA_MAX_CAMPANHA:{}({});CD_SIT_TOT_TURNO:{}({});DS_SIT_TOT_TURNO:{}({});ST_REELEICAO:{}({});ST_DECLARAR_BENS:{}({});NR_PROTOCOLO_CANDIDATURA:{}({});NR_PROCESSO:{}({});\n",
    "\n",
    "```"
   ]
  },
  {
   "cell_type": "code",
   "execution_count": null,
   "metadata": {},
   "outputs": [],
   "source": [
    "import heapq\n",
    "\n",
    "heap = info[:]"
   ]
  },
  {
   "cell_type": "code",
   "execution_count": 125,
   "metadata": {
    "scrolled": true
   },
   "outputs": [
    {
     "name": "stdout",
     "output_type": "stream",
     "text": [
      "DT_GERACAO:{}({});HH_GERACAO:{}({});ANO_ELEICAO:{}({});CD_TIPO_ELEICAO:{}({});NM_TIPO_ELEICAO:{}({});NR_TURNO:{}({});CD_ELEICAO:{}({});DS_ELEICAO:{}({});DT_ELEICAO:{}({});TP_ABRANGENCIA:{}({});SG_UF:{}({});SG_UE:{}({});NM_UE:{}({});CD_CARGO:{}({});DS_CARGO:{}({});SQ_CANDIDATO:{}({});NR_CANDIDATO:{}({});NM_CANDIDATO:{}({});NM_URNA_CANDIDATO:{}({});NM_SOCIAL_CANDIDATO:{}({});NR_CPF_CANDIDATO:{}({});NM_EMAIL:{}({});CD_SITUACAO_CANDIDATURA:{}({});DS_SITUACAO_CANDIDATURA:{}({});CD_DETALHE_SITUACAO_CAND:{}({});DS_DETALHE_SITUACAO_CAND:{}({});TP_AGREMIACAO:{}({});NR_PARTIDO:{}({});SG_PARTIDO:{}({});NM_PARTIDO:{}({});SQ_COLIGACAO:{}({});NM_COLIGACAO:{}({});DS_COMPOSICAO_COLIGACAO:{}({});CD_NACIONALIDADE:{}({});DS_NACIONALIDADE:{}({});SG_UF_NASCIMENTO:{}({});CD_MUNICIPIO_NASCIMENTO:{}({});NM_MUNICIPIO_NASCIMENTO:{}({});DT_NASCIMENTO:{}({});NR_IDADE_DATA_POSSE:{}({});NR_TITULO_ELEITORAL_CANDIDATO:{}({});CD_GENERO:{}({});DS_GENERO:{}({});CD_GRAU_INSTRUCAO:{}({});DS_GRAU_INSTRUCAO:{}({});CD_ESTADO_CIVIL:{}({});DS_ESTADO_CIVIL:{}({});CD_COR_RACA:{}({});DS_COR_RACA:{}({});CD_OCUPACAO:{}({});DS_OCUPACAO:{}({});NR_DESPESA_MAX_CAMPANHA:{}({});CD_SIT_TOT_TURNO:{}({});DS_SIT_TOT_TURNO:{}({});ST_REELEICAO:{}({});ST_DECLARAR_BENS:{}({});NR_PROTOCOLO_CANDIDATURA:{}({});NR_PROCESSO:{}({});"
     ]
    }
   ],
   "source": [
    "for field in fields:\n",
    "    print(field + ':' + '{}({})', end=';')"
   ]
  },
  {
   "cell_type": "code",
   "execution_count": 136,
   "metadata": {},
   "outputs": [
    {
     "data": {
      "text/plain": [
       "'20181209213958'"
      ]
     },
     "execution_count": 136,
     "metadata": {},
     "output_type": "execute_result"
    }
   ],
   "source": [
    "from datetime import datetime\n",
    "\n",
    "datetime.now().strftime(\"%Y%m%d%H%M%S\")"
   ]
  },
  {
   "cell_type": "code",
   "execution_count": 156,
   "metadata": {},
   "outputs": [
    {
     "name": "stdout",
     "output_type": "stream",
     "text": [
      "a =  4\n",
      "Flag is false\n"
     ]
    },
    {
     "ename": "Exception",
     "evalue": "Flag is false",
     "output_type": "error",
     "traceback": [
      "\u001b[0;31m---------------------------------------------------------------------------\u001b[0m",
      "\u001b[0;31mException\u001b[0m                                 Traceback (most recent call last)",
      "\u001b[0;32m<ipython-input-156-ee1bf91e4339>\u001b[0m in \u001b[0;36m<module>\u001b[0;34m\u001b[0m\n\u001b[1;32m      4\u001b[0m \u001b[0mprint\u001b[0m\u001b[0;34m(\u001b[0m\u001b[0;34m\"a = \"\u001b[0m\u001b[0;34m,\u001b[0m \u001b[0ma\u001b[0m\u001b[0;34m)\u001b[0m\u001b[0;34m\u001b[0m\u001b[0m\n\u001b[1;32m      5\u001b[0m \u001b[0mprint\u001b[0m\u001b[0;34m(\u001b[0m\u001b[0;34m\"Flag is true\"\u001b[0m\u001b[0;34m)\u001b[0m \u001b[0;32mif\u001b[0m \u001b[0mflag\u001b[0m \u001b[0;32melse\u001b[0m \u001b[0mprint\u001b[0m\u001b[0;34m(\u001b[0m\u001b[0;34m\"Flag is false\"\u001b[0m\u001b[0;34m)\u001b[0m\u001b[0;34m\u001b[0m\u001b[0m\n\u001b[0;32m----> 6\u001b[0;31m \u001b[0;32mraise\u001b[0m \u001b[0mException\u001b[0m\u001b[0;34m(\u001b[0m\u001b[0;34m\"Flag is true\"\u001b[0m\u001b[0;34m)\u001b[0m \u001b[0;32mif\u001b[0m \u001b[0mflag\u001b[0m \u001b[0;32melse\u001b[0m \u001b[0mException\u001b[0m\u001b[0;34m(\u001b[0m\u001b[0;34m\"Flag is false\"\u001b[0m\u001b[0;34m)\u001b[0m\u001b[0;34m\u001b[0m\u001b[0m\n\u001b[0m",
      "\u001b[0;31mException\u001b[0m: Flag is false"
     ]
    }
   ],
   "source": [
    "flag = False\n",
    "\n",
    "a = 5 if flag else 4\n",
    "print(\"a = \", a)\n",
    "print(\"Flag is true\") if flag else print(\"Flag is false\")\n",
    "raise Exception(\"Flag is true\") if flag else Exception(\"Flag is false\")"
   ]
  },
  {
   "cell_type": "code",
   "execution_count": 157,
   "metadata": {},
   "outputs": [
    {
     "name": "stdout",
     "output_type": "stream",
     "text": [
      "a =  5\n",
      "Flag is true\n"
     ]
    },
    {
     "ename": "Exception",
     "evalue": "Flag is true",
     "output_type": "error",
     "traceback": [
      "\u001b[0;31m---------------------------------------------------------------------------\u001b[0m",
      "\u001b[0;31mException\u001b[0m                                 Traceback (most recent call last)",
      "\u001b[0;32m<ipython-input-157-945da86e57a1>\u001b[0m in \u001b[0;36m<module>\u001b[0;34m\u001b[0m\n\u001b[1;32m      4\u001b[0m \u001b[0mprint\u001b[0m\u001b[0;34m(\u001b[0m\u001b[0;34m\"a = \"\u001b[0m\u001b[0;34m,\u001b[0m \u001b[0ma\u001b[0m\u001b[0;34m)\u001b[0m\u001b[0;34m\u001b[0m\u001b[0m\n\u001b[1;32m      5\u001b[0m \u001b[0mprint\u001b[0m\u001b[0;34m(\u001b[0m\u001b[0;34m\"Flag is true\"\u001b[0m\u001b[0;34m)\u001b[0m \u001b[0;32mif\u001b[0m \u001b[0mflag\u001b[0m \u001b[0;32melse\u001b[0m \u001b[0mprint\u001b[0m\u001b[0;34m(\u001b[0m\u001b[0;34m\"Flag is false\"\u001b[0m\u001b[0;34m)\u001b[0m\u001b[0;34m\u001b[0m\u001b[0m\n\u001b[0;32m----> 6\u001b[0;31m \u001b[0;32mraise\u001b[0m \u001b[0mException\u001b[0m\u001b[0;34m(\u001b[0m\u001b[0;34m\"Flag is true\"\u001b[0m\u001b[0;34m)\u001b[0m \u001b[0;32mif\u001b[0m \u001b[0mflag\u001b[0m \u001b[0;32melse\u001b[0m \u001b[0mException\u001b[0m\u001b[0;34m(\u001b[0m\u001b[0;34m\"Flag is false\"\u001b[0m\u001b[0;34m)\u001b[0m\u001b[0;34m\u001b[0m\u001b[0m\n\u001b[0m",
      "\u001b[0;31mException\u001b[0m: Flag is true"
     ]
    }
   ],
   "source": [
    "flag = True\n",
    "\n",
    "a = 5 if flag else 4\n",
    "print(\"a = \", a)\n",
    "print(\"Flag is true\") if flag else print(\"Flag is false\")\n",
    "raise Exception(\"Flag is true\") if flag else Exception(\"Flag is false\")"
   ]
  },
  {
   "cell_type": "code",
   "execution_count": null,
   "metadata": {},
   "outputs": [],
   "source": []
  }
 ],
 "metadata": {
  "kernelspec": {
   "display_name": "Python 3",
   "language": "python",
   "name": "python3"
  },
  "language_info": {
   "codemirror_mode": {
    "name": "ipython",
    "version": 3
   },
   "file_extension": ".py",
   "mimetype": "text/x-python",
   "name": "python",
   "nbconvert_exporter": "python",
   "pygments_lexer": "ipython3",
   "version": "3.6.5"
  }
 },
 "nbformat": 4,
 "nbformat_minor": 2
}
